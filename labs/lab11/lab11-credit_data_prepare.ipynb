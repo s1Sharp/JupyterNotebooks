{
 "cells": [
  {
   "cell_type": "code",
   "execution_count": null,
   "metadata": {},
   "outputs": [],
   "source": [
    "# импортируем необходимые библиотеки\n",
    "import numpy as np\n",
    "import pandas as pd\n",
    "import matplotlib.pyplot as plt\n",
    "%matplotlib inline\n",
    "import re"
   ]
  },
  {
   "cell_type": "markdown",
   "metadata": {},
   "source": [
    "# Считывание CSV-файла в объект DataFrame"
   ]
  },
  {
   "cell_type": "code",
   "execution_count": null,
   "metadata": {
    "scrolled": false
   },
   "outputs": [],
   "source": [
    "# записываем CSV-файл в объект DataFrame\n",
    "data = pd.read_csv('credit.csv', encoding='cp1251', sep=';')"
   ]
  },
  {
   "cell_type": "code",
   "execution_count": null,
   "metadata": {},
   "outputs": [],
   "source": [
    "# смотрим форму датафрейма\n",
    "data.shape"
   ]
  },
  {
   "cell_type": "code",
   "execution_count": null,
   "metadata": {
    "scrolled": true
   },
   "outputs": [],
   "source": [
    "# выводим первые 5 наблюдений датафрейма\n",
    "data.head()"
   ]
  },
  {
   "cell_type": "code",
   "execution_count": null,
   "metadata": {},
   "outputs": [],
   "source": [
    "# удаляем переменную client_id\n",
    "data.drop('client_id', axis=1, inplace=True)\n",
    "\n",
    "# выводим первые 5 наблюдений датафрейма\n",
    "data.head()"
   ]
  },
  {
   "cell_type": "code",
   "execution_count": null,
   "metadata": {},
   "outputs": [],
   "source": [
    "# смотрим уникальные значения\n",
    "# по переменной living_region\n",
    "data['living_region'].unique()"
   ]
  },
  {
   "cell_type": "code",
   "execution_count": null,
   "metadata": {},
   "outputs": [],
   "source": [
    "# смотрим количество уникальных значений\n",
    "# переменной living_region\n",
    "data['living_region'].nunique()"
   ]
  },
  {
   "cell_type": "code",
   "execution_count": null,
   "metadata": {},
   "outputs": [],
   "source": [
    "# увеличиваем максимальное количество\n",
    "# отображаемых строк\n",
    "pd.options.display.max_rows = 310"
   ]
  },
  {
   "cell_type": "code",
   "execution_count": null,
   "metadata": {},
   "outputs": [],
   "source": [
    "# уникальные значения переменной living_region \n",
    "# записываем в отдельный объект regions\n",
    "regions = data['living_region'].unique()"
   ]
  },
  {
   "cell_type": "code",
   "execution_count": null,
   "metadata": {},
   "outputs": [],
   "source": [
    "# создаем серию, у которой в качестве значений и индексных\n",
    "# меток будут выступать уникальные значения переменной\n",
    "# living_region, записанные в regions\n",
    "regions = pd.Series(data=regions, index=regions, name='regions')\n",
    "regions"
   ]
  },
  {
   "cell_type": "code",
   "execution_count": null,
   "metadata": {},
   "outputs": [],
   "source": [
    "# задаем список стоп-слов\n",
    "stopwrds = set(['ОБЛ','ОБЛАСТЬ', 'РЕСП', 'РЕСПУБЛИКА', \n",
    "                'КРАЙ', 'Г', 'АО', 'АОБЛ', 'АВТОНОМНАЯ'])"
   ]
  },
  {
   "cell_type": "code",
   "execution_count": null,
   "metadata": {},
   "outputs": [],
   "source": [
    "# пишем функцию для предобработки значений серии\n",
    "def clean_region(x):\n",
    "    x = re.sub('[.,]+', ' ', str(x))\n",
    "    wrds = x.split(' ')\n",
    "    wrds_new = []\n",
    "    for w in wrds:\n",
    "        if not w in stopwrds:\n",
    "            wrds_new.append(w)\n",
    "    x = ''.join(wrds_new)\n",
    "    return x\n",
    "\n",
    "# применяем функцию к нашей серии\n",
    "regions = regions.map(clean_region)"
   ]
  },
  {
   "cell_type": "code",
   "execution_count": null,
   "metadata": {
    "scrolled": true
   },
   "outputs": [],
   "source": [
    "# смотрим результаты применения функции\n",
    "regions"
   ]
  },
  {
   "cell_type": "code",
   "execution_count": null,
   "metadata": {},
   "outputs": [],
   "source": [
    "# вносим финальные корректировки в regions\n",
    "regions['ЧУКОТСКИЙ АO'] = 'ЧУКОТСКИЙ'\n",
    "regions['ЧУВАШСКАЯ РЕСПУБЛИКА - ЧУВАШИЯ'] = 'ЧУВАШСКАЯ'\n",
    "regions['ЧУВАШИЯ ЧУВАШСКАЯ РЕСПУБЛИКА -'] = 'ЧУВАШСКАЯ'\n",
    "regions['ЧУВАШСКАЯ - ЧУВАШИЯ РЕСП'] = 'ЧУВАШСКАЯ'\n",
    "regions['РЕСП ЧУВАШСКАЯ - ЧУВАШИЯ'] = 'ЧУВАШСКАЯ'\n",
    "regions['ЧУВАШСКАЯ - ЧУВАШИЯ РЕСП'] = 'ЧУВАШСКАЯ'\n",
    "regions['РЕСПУБЛИКАТАТАРСТАН'] = 'ТАТАРСТАН'\n",
    "regions['ПРИВОЛЖСКИЙ ФЕДЕРАЛЬНЫЙ ОКРУГ'] = 'МОСКОВСКАЯ'\n",
    "regions['ПЕРМСКАЯ ОБЛ'] = 'ПЕРМСКИЙ'\n",
    "regions['ОРЁЛ'] = 'ОРЛОВСКАЯ'\n",
    "regions['Г.ОДИНЦОВО МОСКОВСКАЯ ОБЛ'] = 'МОСКОВСКАЯ'\n",
    "regions['МЫТИЩИНСКИЙ Р-Н'] = 'МОСКОВСКАЯ'\n",
    "regions['МОСКОВСКИЙ П'] = 'МОСКОВСКАЯ'\n",
    "regions['КАМЧАТСКАЯ ОБЛАСТЬ'] = 'КАМЧАТСКИЙ'\n",
    "regions['ДАЛЬНИЙ ВОСТОК'] = 'МОСКОВСКАЯ'\n",
    "regions['ДАЛЬНИЙВОСТОК'] = 'МОСКОВСКАЯ'\n",
    "regions['ГУСЬ-ХРУСТАЛЬНЫЙ Р-Н'] = 'ВЛАДИМИРСКАЯ'\n",
    "regions['ГОРЬКОВСКАЯ ОБЛ'] = 'НИЖЕГОРОДСКАЯ'\n",
    "regions['ЭВЕНКИЙСКИЙ АО'] = 'КРАСНОЯРСКИЙ'\n",
    "regions['ХАНТЫ-МАНСИЙСКИЙ АВТОНОМНЫЙ ОКРУГ - ЮГРА'] = 'ХАНТЫ-МАНСИЙСКИЙ'\n",
    "regions['АО ХАНТЫ-МАНСИЙСКИЙ АВТОНОМНЫЙ ОКРУГ - Ю'] = 'ХАНТЫ-МАНСИЙСКИЙ'\n",
    "regions['АО ХАНТЫ-МАНСИЙСКИЙ-ЮГРА'] = 'ХАНТЫ-МАНСИЙСКИЙ'\n",
    "regions['СЕВ. ОСЕТИЯ - АЛАНИЯ'] = 'СЕВЕРНАЯОСЕТИЯ-АЛАНИЯ'\n",
    "regions['РЕСП. САХА (ЯКУТИЯ)'] ='САХА/ЯКУТИЯ/'\n",
    "regions['РЕСПУБЛИКА САХА'] = 'САХА/ЯКУТИЯ/'\n",
    "regions['ДАЛЬНИЙВОСТОК'] = 'МОСКОВСКАЯ'\n",
    "regions['САХА'] = 'САХА/ЯКУТИЯ/'\n",
    "regions['98'] = 'САНКТ-ПЕТЕРБУРГ'\n",
    "regions['74'] = 'ЧЕЛЯБИНСКАЯ'\n",
    "regions['РОССИЯ'] = 'МОСКОВСКАЯ'\n",
    "regions['МОСКВОСКАЯ'] = 'МОСКОВСКАЯ'\n",
    "regions['МОСКВОСКАЯ ОБЛ'] = 'МОСКОВСКАЯ'\n",
    "regions['ЧЕЛЯБИНСК'] = 'ЧЕЛЯБИНСКАЯ'\n",
    "regions['Г. ЧЕЛЯБИНСК'] = 'ЧЕЛЯБИНСКАЯ'\n",
    "regions['БРЯНСКИЙ'] = 'БРЯНСКАЯ'"
   ]
  },
  {
   "cell_type": "code",
   "execution_count": null,
   "metadata": {},
   "outputs": [],
   "source": [
    "# вновь смотрим серию\n",
    "regions"
   ]
  },
  {
   "cell_type": "code",
   "execution_count": null,
   "metadata": {},
   "outputs": [],
   "source": [
    "# заменяем исходные категории переменной \n",
    "# living_region на новые\n",
    "data['living_region'] = data['living_region'].map(regions)"
   ]
  },
  {
   "cell_type": "code",
   "execution_count": null,
   "metadata": {
    "scrolled": false
   },
   "outputs": [],
   "source": [
    "# смотрим уникальные значения\n",
    "# по переменной living_region\n",
    "data['living_region'].unique()"
   ]
  },
  {
   "cell_type": "code",
   "execution_count": null,
   "metadata": {},
   "outputs": [],
   "source": [
    "# смотрим количество уникальных значений\n",
    "# по переменной living_region\n",
    "data['living_region'].nunique()"
   ]
  },
  {
   "cell_type": "markdown",
   "metadata": {},
   "source": [
    "# Преобразование типов переменных"
   ]
  },
  {
   "cell_type": "code",
   "execution_count": null,
   "metadata": {
    "scrolled": true
   },
   "outputs": [],
   "source": [
    "# смотрим типы переменных\n",
    "print(data.info())"
   ]
  },
  {
   "cell_type": "code",
   "execution_count": null,
   "metadata": {},
   "outputs": [],
   "source": [
    "# преобразуем указанные переменные в тип object\n",
    "for i in ['tariff_id', 'open_account_flg']:\n",
    "    data[i] = data[i].astype('object')"
   ]
  },
  {
   "cell_type": "markdown",
   "metadata": {},
   "source": [
    "Можно было преобразовать в тип `str`, разница заключается в том, что если при преобразовании в тип `object` значения `NaN` так и остаются значениями `NaN` и нуждаются в импутации, то по итогам преобразования в тип `str` пропуски cформируют отдельную категорию `nan`. В ряде случаев это очень удобно, потому что часто пропуски для категориальных переменных выделяют в отдельную категорию."
   ]
  },
  {
   "cell_type": "code",
   "execution_count": null,
   "metadata": {},
   "outputs": [],
   "source": [
    "# в указанных переменных заменяем запятые на точки и\n",
    "# преобразуем в тип float\n",
    "for i in ['credit_sum', 'score_shk']:\n",
    "    data[i] = data[i].str.replace(',', '.').astype('float')"
   ]
  },
  {
   "cell_type": "code",
   "execution_count": null,
   "metadata": {
    "scrolled": false
   },
   "outputs": [],
   "source": [
    "# смотрим типы переменных\n",
    "print(data.info())"
   ]
  },
  {
   "cell_type": "code",
   "execution_count": null,
   "metadata": {
    "scrolled": true
   },
   "outputs": [],
   "source": [
    "# выводим первые 5 наблюдений датафрейма\n",
    "data.head()"
   ]
  },
  {
   "cell_type": "markdown",
   "metadata": {},
   "source": [
    "# Переименование категорий переменных"
   ]
  },
  {
   "cell_type": "code",
   "execution_count": null,
   "metadata": {},
   "outputs": [],
   "source": [
    "# создаем словарь, в котором ключем является старое\n",
    "# название категории, значением – новое название\n",
    "# категории\n",
    "d = {'M':'Male', 'F':'Female'}\n",
    "\n",
    "# передаем словарь в метод map\n",
    "data['gender'] = data['gender'].map(d)\n",
    "data.head()"
   ]
  },
  {
   "cell_type": "code",
   "execution_count": null,
   "metadata": {
    "scrolled": true
   },
   "outputs": [],
   "source": [
    "# создаем словарь, в котором ключем является старое\n",
    "# название категории, значением – новое название\n",
    "# категории\n",
    "f = {'Male':'M', 'Female':'F'}\n",
    "\n",
    "# передаем в метод replace словарь, в котором ключем\n",
    "# будет название переменной, а значением - словарь со\n",
    "# старыми и новыми названиями категорий\n",
    "data = data.replace({'gender': f})\n",
    "data.head()"
   ]
  },
  {
   "cell_type": "markdown",
   "metadata": {},
   "source": [
    "# Обработка редких категорий"
   ]
  },
  {
   "cell_type": "code",
   "execution_count": null,
   "metadata": {},
   "outputs": [],
   "source": [
    "# выводим частоты категорий по каждой\n",
    "# категориальной переменной\n",
    "categorical_columns = [c for c in data.columns if data[c].dtype.name == 'object']\n",
    "for c in categorical_columns:\n",
    "    print(data[c].value_counts())"
   ]
  },
  {
   "cell_type": "code",
   "execution_count": null,
   "metadata": {
    "scrolled": false
   },
   "outputs": [],
   "source": [
    "# выводим частоты категорий для переменной job_position,\n",
    "# dropna=False выведет частоту пропусков, если они есть \n",
    "print(data['job_position'].value_counts(dropna=False))"
   ]
  },
  {
   "cell_type": "code",
   "execution_count": null,
   "metadata": {},
   "outputs": [],
   "source": [
    "# записываем указанные категории переменной\n",
    "# job_position в отдельную категорию OTHER\n",
    "data.at[data['job_position'] == 'PNV', 'job_position'] = 'OTHER'\n",
    "data.at[data['job_position'] == 'PNS', 'job_position'] = 'OTHER'\n",
    "data.at[data['job_position'] == 'HSK', 'job_position'] = 'OTHER'\n",
    "data.at[data['job_position'] == 'INV', 'job_position'] = 'OTHER'\n",
    "data.at[data['job_position'] == 'ONB', 'job_position'] = 'OTHER'"
   ]
  },
  {
   "cell_type": "code",
   "execution_count": null,
   "metadata": {
    "scrolled": true
   },
   "outputs": [],
   "source": [
    "# выводим частоты категорий для переменной job_position\n",
    "print(data['job_position'].value_counts(dropna=False))"
   ]
  },
  {
   "cell_type": "code",
   "execution_count": null,
   "metadata": {
    "scrolled": true
   },
   "outputs": [],
   "source": [
    "# выводим частоты категорий для переменной tariff_id\n",
    "print(data['tariff_id'].value_counts(dropna=False))"
   ]
  },
  {
   "cell_type": "code",
   "execution_count": null,
   "metadata": {},
   "outputs": [],
   "source": [
    "# все категории переменной tariff_id с частотой \n",
    "# менее 55 наблюдений записываем в отдельную\n",
    "# категорию 1.99\n",
    "data.loc[data['tariff_id'].value_counts()[data['tariff_id']].values < 55, \n",
    "         'tariff_id'] = 1.99"
   ]
  },
  {
   "cell_type": "code",
   "execution_count": null,
   "metadata": {
    "scrolled": true
   },
   "outputs": [],
   "source": [
    "# выводим частоты категорий для переменной tariff_id\n",
    "print(data['tariff_id'].value_counts(dropna=False))"
   ]
  },
  {
   "cell_type": "code",
   "execution_count": null,
   "metadata": {
    "scrolled": false
   },
   "outputs": [],
   "source": [
    "# выводим частоты для последних 10 категорий\n",
    "# переменной living_region\n",
    "print(data['living_region'].value_counts(dropna=False).tail(10))"
   ]
  },
  {
   "cell_type": "code",
   "execution_count": null,
   "metadata": {
    "scrolled": true
   },
   "outputs": [],
   "source": [
    "# создаем серию, у которой значениями будут частоты \n",
    "# категорий переменной living_region\n",
    "region_series = data['living_region'].value_counts()"
   ]
  },
  {
   "cell_type": "code",
   "execution_count": null,
   "metadata": {},
   "outputs": [],
   "source": [
    "# создаем булеву маску, если частота категории меньше 0.029,\n",
    "# будет возвращено значение TRUE, в противном случае\n",
    "# будет возвращено значение FALSE\n",
    "mask = (region_series/region_series.sum() * 100).lt(0.029)\n",
    "\n",
    "# выводим последние 10 категорий\n",
    "mask.tail(10)"
   ]
  },
  {
   "cell_type": "code",
   "execution_count": null,
   "metadata": {},
   "outputs": [],
   "source": [
    "# с помощью функции np.where мы все категории, по которым возвращено \n",
    "# значение TRUE, заменим на категорию OTHER, в противном случае \n",
    "# оставим категории неизменными\n",
    "data['living_region'] = np.where(data['living_region'].isin(region_series[mask].index), \n",
    "                                 'OTHER', data['living_region'])"
   ]
  },
  {
   "cell_type": "code",
   "execution_count": null,
   "metadata": {},
   "outputs": [],
   "source": [
    "# выводим частоты для последних 10 категорий \n",
    "# переменной living_region\n",
    "print(data['living_region'].value_counts(dropna=False).tail(10))"
   ]
  }
 ],
 "metadata": {
  "anaconda-cloud": {},
  "kernelspec": {
   "display_name": "Python 3",
   "language": "python",
   "name": "python3"
  },
  "language_info": {
   "codemirror_mode": {
    "name": "ipython",
    "version": 3
   },
   "file_extension": ".py",
   "mimetype": "text/x-python",
   "name": "python",
   "nbconvert_exporter": "python",
   "pygments_lexer": "ipython3",
   "version": "3.8.1-final"
  }
 },
 "nbformat": 4,
 "nbformat_minor": 1
}