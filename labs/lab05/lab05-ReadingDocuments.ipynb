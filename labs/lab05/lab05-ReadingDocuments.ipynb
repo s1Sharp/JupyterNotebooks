{
 "cells": [
  {
   "cell_type": "code",
   "execution_count": null,
   "metadata": {},
   "outputs": [],
   "source": [
    "from bs4 import BeautifulSoup"
   ]
  },
  {
   "cell_type": "code",
   "execution_count": null,
   "metadata": {},
   "outputs": [],
   "source": [
    "from urllib.request import urlopen\n",
    "textPage = urlopen('http://www.pythonscraping.com/pages/warandpeace/chapter1.txt')\n",
    "print(textPage.read())"
   ]
  },
  {
   "cell_type": "code",
   "execution_count": null,
   "metadata": {},
   "outputs": [],
   "source": [
    "from urllib.request import urlopen\n",
    "textPage = urlopen(\n",
    "             'http://www.pythonscraping.com/pages/warandpeace/chapter1-ru.txt')\n",
    "print(textPage.read())"
   ]
  },
  {
   "cell_type": "code",
   "execution_count": null,
   "metadata": {},
   "outputs": [],
   "source": [
    "from urllib.request import urlopen\n",
    "\n",
    "textPage = urlopen(\n",
    "             'http://www.pythonscraping.com/pages/warandpeace/chapter1-ru.txt')\n",
    "print(str(textPage.read(), 'utf-8'))"
   ]
  },
  {
   "cell_type": "code",
   "execution_count": null,
   "metadata": {},
   "outputs": [],
   "source": [
    "html = urlopen(\"http://en.wikipedia.org/wiki/Python_(programming_language)\")\n",
    "bs = BeautifulSoup(html, \"html.parser\")\n",
    "content = bs.find(\"div\", {\"id\":\"mw-content-text\"}).get_text()\n",
    "content = bytes(content, \"UTF-8\")\n",
    "content = content.decode(\"UTF-8\")\n",
    "print(content)"
   ]
  },
  {
   "cell_type": "code",
   "execution_count": null,
   "metadata": {},
   "outputs": [],
   "source": [
    "from urllib.request import urlopen\n",
    "from io import StringIO\n",
    "import csv\n",
    "\n",
    "data = urlopen('http://pythonscraping.com/files/MontyPythonAlbums.csv').read().decode('ascii', 'ignore')\n",
    "dataFile = StringIO(data)\n",
    "csvReader = csv.reader(dataFile)\n",
    "\n",
    "for row in csvReader:\n",
    "    print(row)\n",
    "    print(\"Альбом \\\"\"+row[0]+\"\\\" был выпущен в\"+str(row[1]))"
   ]
  },
  {
   "cell_type": "code",
   "execution_count": null,
   "metadata": {},
   "outputs": [],
   "source": [
    "for row in csvReader:\n",
    "    print(\"Альбом \\\"\"+row[0]+\"\\\" был выпущен в \"+str(row[1]))"
   ]
  },
  {
   "cell_type": "code",
   "execution_count": null,
   "metadata": {},
   "outputs": [],
   "source": [
    "from urllib.request import urlopen\n",
    "from io import StringIO\n",
    "import csv\n",
    "\n",
    "data = urlopen(\"http://pythonscraping.com/files/MontyPythonAlbums.csv\").read().decode('ascii', 'ignore')\n",
    "dataFile = StringIO(data)\n",
    "dictReader = csv.DictReader(dataFile)\n",
    "\n",
    "print(dictReader.fieldnames)\n",
    "\n",
    "for row in dictReader:\n",
    "    print(row)"
   ]
  },
  {
   "cell_type": "markdown",
   "metadata": {},
   "source": [
    "# Чтение PDF"
   ]
  },
  {
   "cell_type": "code",
   "execution_count": null,
   "metadata": {},
   "outputs": [],
   "source": [
    "from urllib.request import urlopen\n",
    "from pdfminer.pdfinterp import PDFResourceManager, process_pdf\n",
    "from pdfminer.converter import TextConverter\n",
    "from pdfminer.layout import LAParams\n",
    "from io import StringIO\n",
    "from io import open\n",
    "\n",
    "def readPDF(pdfFile):\n",
    "    rsrcmgr = PDFResourceManager()\n",
    "    retstr = StringIO()\n",
    "    laparams = LAParams()\n",
    "    device = TextConverter(rsrcmgr, retstr, laparams=laparams)\n",
    "\n",
    "    process_pdf(rsrcmgr, device, pdfFile)\n",
    "    device.close()\n",
    "\n",
    "    content = retstr.getvalue()\n",
    "    retstr.close()\n",
    "    return content\n",
    "\n",
    "pdfFile = urlopen(\"https://downloader.disk.yandex.ru/disk/c0d31b804e01892d6f7a73e778fdb6bd28edad3821fe9434d9bde3ba4ea4a7a4/5ca4d4a9/s5iioc04zFFofIXpScqFxRd6Io_8RdtazpZn-RaUIBGurvugOf8i2H3MntmnlAXEJsJufk8_tvh1b7_4TvD1wA%3D%3D?uid=65681894&filename=%D0%9B%D0%B0%D0%B1%D0%BE%D1%80%D0%B0%D1%82%D0%BE%D1%80%D0%BD%D0%B0%D1%8F%20%D1%80%D0%B0%D0%B1%D0%BE%D1%82%D0%B0_6.pdf&disposition=attachment&hash=&limit=0&content_type=application%2Fpdf&fsize=69209&hid=d165523ff00a47936249f259ac27cd12&media_type=document&tknv=v2&etag=61a056618e9174ebcc073858714bb471\")\n",
    "outputString = readPDF(pdfFile)\n",
    "print(outputString)\n",
    "pdfFile.close()"
   ]
  },
  {
   "cell_type": "markdown",
   "metadata": {},
   "source": [
    "# Чтение DOCX"
   ]
  },
  {
   "cell_type": "code",
   "execution_count": null,
   "metadata": {},
   "outputs": [],
   "source": [
    "from zipfile import ZipFile\n",
    "from urllib.request import urlopen\n",
    "from io import BytesIO\n",
    "from bs4 import BeautifulSoup\n",
    "\n",
    "wordFile = urlopen('https://downloader.disk.yandex.ru/disk/0bb7c1b87494eeab86a31a7e43bdcee090b6bb4c308e763f8dc8519769f5a1cc/5ca4d733/s5iioc04zFFofIXpScqFxQVyS3NMwA--9DHG2xkBh-WAdlHfF2SHCpWZ2cqC6NQypn70wGLPttlUPnyq7BGR0g%3D%3D?uid=65681894&filename=%D0%9B%D0%B0%D0%B1%D0%BE%D1%80%D0%B0%D1%82%D0%BE%D1%80%D0%BD%D0%B0%D1%8F%20%D1%80%D0%B0%D0%B1%D0%BE%D1%82%D0%B0_6.docx&disposition=attachment&hash=&limit=0&content_type=application%2Fvnd.openxmlformats-officedocument.wordprocessingml.document&fsize=15701&hid=0f64c77e3cd8c6bcc7d0d7ae872c7854&media_type=document&tknv=v2&etag=15d04552e5b04d17084d404cf7fff2d7').read()\n",
    "wordFile = BytesIO(wordFile)\n",
    "document = ZipFile(wordFile)\n",
    "xml_content = document.read('word/document.xml')\n",
    "\n",
    "print(xml_content.decode('utf-8'))\n",
    "\n",
    "    "
   ]
  },
  {
   "cell_type": "code",
   "execution_count": null,
   "metadata": {},
   "outputs": [],
   "source": [
    "from zipfile import ZipFile\n",
    "from urllib.request import urlopen\n",
    "from io import BytesIO\n",
    "from bs4 import BeautifulSoup\n",
    "\n",
    "wordFile = urlopen('https://downloader.disk.yandex.ru/disk/0bb7c1b87494eeab86a31a7e43bdcee090b6bb4c308e763f8dc8519769f5a1cc/5ca4d733/s5iioc04zFFofIXpScqFxQVyS3NMwA--9DHG2xkBh-WAdlHfF2SHCpWZ2cqC6NQypn70wGLPttlUPnyq7BGR0g%3D%3D?uid=65681894&filename=%D0%9B%D0%B0%D0%B1%D0%BE%D1%80%D0%B0%D1%82%D0%BE%D1%80%D0%BD%D0%B0%D1%8F%20%D1%80%D0%B0%D0%B1%D0%BE%D1%82%D0%B0_6.docx&disposition=attachment&hash=&limit=0&content_type=application%2Fvnd.openxmlformats-officedocument.wordprocessingml.document&fsize=15701&hid=0f64c77e3cd8c6bcc7d0d7ae872c7854&media_type=document&tknv=v2&etag=15d04552e5b04d17084d404cf7fff2d7').read()\n",
    "wordFile = BytesIO(wordFile)\n",
    "document = ZipFile(wordFile)\n",
    "xml_content = document.read('word/document.xml')\n",
    "\n",
    "wordObj = BeautifulSoup(xml_content.decode('utf-8'), 'xml')\n",
    "textStrings = wordObj.find_all('w:t')\n",
    "\n",
    "for textElem in textStrings:\n",
    "    print(textElem.text)"
   ]
  },
  {
   "cell_type": "code",
   "execution_count": null,
   "metadata": {},
   "outputs": [],
   "source": [
    "textStrings = wordObj.find_all('w:t')\n",
    "\n",
    "for textElem in textStrings:\n",
    "    style = textElem.parent.parent.find('w:pStyle')\n",
    "    if style is not None and style['w:val'] == 'Title':\n",
    "        print('Title is: {}'.format(textElem.text))\n",
    "    else:\n",
    "        print(textElem.text)\n"
   ]
  },
  {
   "cell_type": "code",
   "execution_count": null,
   "metadata": {},
   "outputs": [],
   "source": []
  }
 ],
 "metadata": {
  "kernelspec": {
   "display_name": "Python 3",
   "language": "python",
   "name": "python3"
  },
  "language_info": {
   "codemirror_mode": {
    "name": "ipython",
    "version": 3
   },
   "file_extension": ".py",
   "mimetype": "text/x-python",
   "name": "python",
   "nbconvert_exporter": "python",
   "pygments_lexer": "ipython3",
   "version": "3.7.1"
  }
 },
 "nbformat": 4,
 "nbformat_minor": 2
}
