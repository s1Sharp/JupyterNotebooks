{
 "cells": [
  {
   "cell_type": "code",
   "execution_count": null,
   "metadata": {},
   "outputs": [],
   "source": [
    "from urllib.request import urlopen\n",
    "from bs4 import BeautifulSoup\n",
    "import re\n",
    "import string\n",
    "from collections import Counter\n",
    "import operator\n",
    "\n",
    "def cleanSentence(sentence):\n",
    "    sentence = sentence.split(' ')\n",
    "    sentence = [word.strip(string.punctuation+string.whitespace) for word in sentence]\n",
    "    sentence = [word for word in sentence if len(word) > 1 or (word.lower() == 'a' or word.lower() == 'i')]\n",
    "    return sentence\n",
    "\n",
    "def cleanInput(content):\n",
    "    content = content.upper()\n",
    "    content = re.sub('\\n', ' ', content)\n",
    "    content = bytes(content, 'UTF-8')\n",
    "    content = content.decode('ascii', 'ignore')\n",
    "    sentences = content.split('. ')\n",
    "    return [cleanSentence(sentence) for sentence in sentences]\n",
    "\n",
    "def getNgramsFromSentence(content, n):\n",
    "    output = []\n",
    "    for i in range(len(content)-n+1):\n",
    "        output.append(content[i:i+n])\n",
    "    return output\n",
    "\n",
    "def getNgrams(content, n):\n",
    "    content = cleanInput(content)\n",
    "    ngrams = Counter()\n",
    "    ngrams_list = []\n",
    "    for sentence in content:\n",
    "        newNgrams = [' '.join(ngram) for ngram in getNgramsFromSentence(sentence, n)]\n",
    "        ngrams_list.extend(newNgrams)\n",
    "        ngrams.update(newNgrams)\n",
    "    return(ngrams)"
   ]
  },
  {
   "cell_type": "code",
   "execution_count": null,
   "metadata": {},
   "outputs": [],
   "source": [
    "#загружаем текстовый файл\n",
    "content = str(\n",
    "      urlopen('https://downloader.disk.yandex.ru/disk/660b0603cbd137ee745cf7f99e9b1797acca6d54af3c0c840246213c574c822a/5cadf5d1/s5iioc04zFFofIXpScqFxefHRCNLSIeieeAj0ivDIo0ynJ9-wYcNt_xVmwNFqxacXZcRMmLpKTXD1kV0wK2AFw%3D%3D?uid=0&filename=inaugurationSpeech.txt&disposition=attachment&hash=Uq9mRoDQZeQUOB9O4HXXnckWKDS5ytk2BxsUtfyAMfO8inCPnQDVhLMSBCeuH7RJq/J6bpmRyOJonT3VoXnDag%3D%3D&limit=0&content_type=text%2Fplain&fsize=49715&hid=01a9b18d40080f5c5df843a5ed1c400c&media_type=document&tknv=v2').read(),\n",
    "              'utf-8')\n",
    "ngrams = getNgrams(content, 3)\n",
    "\n",
    "print(ngrams)"
   ]
  },
  {
   "cell_type": "code",
   "execution_count": null,
   "metadata": {},
   "outputs": [],
   "source": [
    "#Создать словарь N-грамм #Исправить ошибки\n",
    "from urllib.request import urlopen\n",
    "fr~ bs4 i~port BeautifulSoup\n",
    "import re\n",
    "i~port string\n",
    "i~port operator\n",
    "\n",
    "def cleaninput(input):\n",
    "input= re.sub('\\n+', \" \", input). lower()\n",
    "input = re.sub('\\[[0-9]*\\]', \"\", input)\n",
    "input= re.sub(' +', \" \", input)\n",
    "input = bytes(input, \"UTF-B\")\n",
    "input = input.decode(\"ascii\", \"ignore\")\n",
    "cleaninput = []\n",
    "input= input.split(' ')\n",
    "for iteM in input:\n",
    "iteM = iteM.strip(string.punctuation)\n",
    "if len(iteM) > 1 or (iteM.lower() == 'a' or iteM.lower() '\\'):\n",
    "cleaninput.append(iteM)\n",
    "return cleaninput\n",
    "def ngraMs(input, n):\n",
    "input = cleaninput(input)\n",
    "output = {}\n",
    "for i in range(len(input)-n+l):\n",
    "ngraMTeMp =\" \".join(input[i:i+n])\n",
    "if ngraMTeMp not in output:\n",
    "output[ngraMTeMp] = 0\n",
    "output[ngraMTeMp] += 1\n",
    "return output\n",
    "                     \n",
    "                     \n",
    "#загружаем текстовый файл\n",
    "content = str(\"Speech.txt\").read(),\n",
    "              'utf-8')\n",
    "ngrams = getNgrams(content, 2)                     \n",
    "sortedNGraMs = sorted(ngrams.items(), key= operator.itemgetter(1), reverse=True)           \n",
    "print(sortedNGraMs)"
   ]
  },
  {
   "cell_type": "code",
   "execution_count": null,
   "metadata": {
    "scrolled": true
   },
   "outputs": [],
   "source": [
    "def isCommon(ngram):\n",
    "    commonWords = ['THE', 'BE', 'AND', 'OF', 'A', 'IN', 'TO', 'HAVE', 'IT', 'I', 'THAT', 'FOR', 'YOU', 'HE', 'WITH', 'ON', 'DO', 'SAY', 'THIS', 'THEY', 'IS', 'AN', 'AT', 'BUT', 'WE', 'HIS', 'FROM', 'THAT', 'NOT', 'BY', 'SHE', 'OR', 'AS', 'WHAT', 'GO', 'THEIR', 'CAN', 'WHO', 'GET', 'IF', 'WOULD', 'HER', 'ALL', 'MY', 'MAKE', 'ABOUT', 'KNOW', 'WILL', 'AS', 'UP', 'ONE', 'TIME', 'HAS', 'BEEN', 'THERE', 'YEAR', 'SO', 'THINK', 'WHEN', 'WHICH', 'THEM', 'SOME', 'ME', 'PEOPLE', 'TAKE', 'OUT', 'INTO', 'JUST', 'SEE', 'HIM', 'YOUR', 'COME', 'COULD', 'NOW', 'THAN', 'LIKE', 'OTHER', 'HOW', 'THEN', 'ITS', 'OUR', 'TWO', 'MORE', 'THESE', 'WANT', 'WAY', 'LOOK', 'FIRST', 'ALSO', 'NEW', 'BECAUSE', 'DAY', 'MORE', 'USE', 'NO', 'MAN', 'FIND', 'HERE', 'THING', 'GIVE', 'MANY', 'WELL']\n",
    "    for word in ngram:\n",
    "        if word in commonWords:\n",
    "            return True\n",
    "    return False\n",
    "\n",
    "def getNgramsFromSentence(content, n):\n",
    "    output = []\n",
    "    for i in range(len(content)-n+1):\n",
    "        if not isCommon(content[i:i+n]):\n",
    "            output.append(content[i:i+n])\n",
    "    return output\n"
   ]
  },
  {
   "cell_type": "code",
   "execution_count": null,
   "metadata": {},
   "outputs": [],
   "source": [
    "def getFirstSentenceContaining(ngram, content):\n",
    "    #print(ngram)\n",
    "    sentences = content.upper().split(\". \")\n",
    "    for sentence in sentences: \n",
    "        if ngram in sentence:\n",
    "            return sentence+'\\n'\n",
    "    return \"\"\n",
    "\n",
    "\n",
    "print(getFirstSentenceContaining('EXCLUSIVE METALLIC CURRENCY', content))\n",
    "print(getFirstSentenceContaining('EXECUTIVE DEPARTMENT', content))\n",
    "print(getFirstSentenceContaining('GENERAL GOVERNMENT', content))\n",
    "print(getFirstSentenceContaining('CALLED UPON', content))\n",
    "print(getFirstSentenceContaining('CHIEF MAGISTRATE', content))"
   ]
  },
  {
   "cell_type": "markdown",
   "metadata": {},
   "source": [
    "### Марковские модели\n",
    "Рисунок. Теоретический прогноз погоды на основе Марковской цепи"
   ]
  },
  {
   "attachments": {
    "image.png": {
     "image/png": "[encoded data removed]"
    }
   },
   "cell_type": "markdown",
   "metadata": {},
   "source": [
    "![image.png](attachment:image.png)"
   ]
  },
  {
   "cell_type": "code",
   "execution_count": null,
   "metadata": {},
   "outputs": [],
   "source": [
    "from urllib.request import urlopen\n",
    "from random import randint\n",
    "\n",
    "def wordListSum(wordList):\n",
    "    sum = 0\n",
    "    for word, value in wordList.items():\n",
    "        sum += value\n",
    "    return sum\n",
    "\n",
    "def retrieveRandomWord(wordList):\n",
    "    randIndex = randint(1, wordListSum(wordList))\n",
    "    for word, value in wordList.items():\n",
    "        randIndex -= value\n",
    "        if randIndex <= 0:\n",
    "            return word\n",
    "\n",
    "def buildWordDict(text):\n",
    "    # Remove newlines and quotes\n",
    "    text = text.replace('\\n', ' ');\n",
    "    text = text.replace('\"', '');\n",
    "\n",
    "    # Make sure punctuation marks are treated as their own \"words,\"\n",
    "    # so that they will be included in the Markov chain\n",
    "    punctuation = [',','.',';',':']\n",
    "    for symbol in punctuation:\n",
    "        text = text.replace(symbol, ' {} '.format(symbol));\n",
    "\n",
    "    words = text.split(' ')\n",
    "    # Filter out empty words\n",
    "    words = [word for word in words if word != '']\n",
    "\n",
    "    wordDict = {}\n",
    "    for i in range(1, len(words)):\n",
    "        if words[i-1] not in wordDict:\n",
    "                # Create a new dictionary for this word\n",
    "            wordDict[words[i-1]] = {}\n",
    "        if words[i] not in wordDict[words[i-1]]:\n",
    "            wordDict[words[i-1]][words[i]] = 0\n",
    "        wordDict[words[i-1]][words[i]] += 1\n",
    "    return wordDict\n",
    "\n",
    "text = str(urlopen('https://downloader.disk.yandex.ru/disk/660b0603cbd137ee745cf7f99e9b1797acca6d54af3c0c840246213c574c822a/5cadf5d1/s5iioc04zFFofIXpScqFxefHRCNLSIeieeAj0ivDIo0ynJ9-wYcNt_xVmwNFqxacXZcRMmLpKTXD1kV0wK2AFw%3D%3D?uid=0&filename=inaugurationSpeech.txt&disposition=attachment&hash=Uq9mRoDQZeQUOB9O4HXXnckWKDS5ytk2BxsUtfyAMfO8inCPnQDVhLMSBCeuH7RJq/J6bpmRyOJonT3VoXnDag%3D%3D&limit=0&content_type=text%2Fplain&fsize=49715&hid=01a9b18d40080f5c5df843a5ed1c400c&media_type=document&tknv=v2')\n",
    "          .read(), 'utf-8')\n",
    "wordDict = buildWordDict(text)\n",
    "\n",
    "#Генерируем цепь Маркова длиной 100\n",
    "length = 100\n",
    "chain = ['I']\n",
    "for i in range(0, length):\n",
    "    newWord = retrieveRandomWord(wordDict[chain[-1]])\n",
    "    chain.append(newWord)\n",
    "\n",
    "print(' '.join(chain))"
   ]
  },
  {
   "cell_type": "markdown",
   "metadata": {},
   "source": [
    "## Natural Language Toolkit (NLTK)"
   ]
  },
  {
   "cell_type": "code",
   "execution_count": null,
   "metadata": {},
   "outputs": [],
   "source": [
    "import nltk\n",
    "nltk.download()"
   ]
  }
 ],
 "metadata": {
  "kernelspec": {
   "display_name": "Python 3",
   "language": "python",
   "name": "python3"
  },
  "language_info": {
   "codemirror_mode": {
    "name": "ipython",
    "version": 3
   },
   "file_extension": ".py",
   "mimetype": "text/x-python",
   "name": "python",
   "nbconvert_exporter": "python",
   "pygments_lexer": "ipython3",
   "version": "3.8.1-final"
  }
 },
 "nbformat": 4,
 "nbformat_minor": 2
}