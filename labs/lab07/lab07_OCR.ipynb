{
 "cells": [
  {
   "cell_type": "code",
   "execution_count": null,
   "metadata": {},
   "outputs": [],
   "source": [
    "from PIL import Image\n",
    "import pytesseract\n",
    "from pytesseract import Output\n",
    "\n",
    "print(pytesseract.image_to_data(Image.open('files/textOriginal.png'),  output_type=Output.DICT))"
   ]
  },
  {
   "cell_type": "code",
   "execution_count": null,
   "metadata": {},
   "outputs": [],
   "source": [
    "print(pytesseract.image_to_string(Image.open('files/textOriginal.png'), output_type=Output.BYTES))"
   ]
  },
  {
   "cell_type": "code",
   "execution_count": null,
   "metadata": {},
   "outputs": [],
   "source": [
    "#провекра Numpy\n",
    "import numpy as np\n",
    "\n",
    "numbers = [100, 102, 98, 97, 103]\n",
    "print(np.std(numbers))\n",
    "print(np.mean(numbers))"
   ]
  },
  {
   "cell_type": "code",
   "execution_count": null,
   "metadata": {},
   "outputs": [],
   "source": [
    "from PIL import Image\n",
    "import subprocess\n",
    "\n",
    "def cleanFile(filePath, newFilePath):\n",
    "    image = Image.open(filePath)\n",
    "\n",
    "    #установка порога для изображения\n",
    "    image = image.point(lambda x: 0 if x<135 else 255)\n",
    "    image.save(newFilePath)\n",
    "\n",
    "    #вызов tesseract для OCR изображения\n",
    "    subprocess.call(['tesseract', newFilePath, 'output'])\n",
    "    \n",
    "    #запись результата OCR в текстовый файл\n",
    "    outputFile = open('output.txt', 'r')\n",
    "    print(outputFile.read())\n",
    "    outputFile.close()\n",
    "\n",
    "cleanFile('files/textOriginal.png', 'files/text_2.png')"
   ]
  },
  {
   "cell_type": "code",
   "execution_count": null,
   "metadata": {},
   "outputs": [],
   "source": [
    "from PIL import Image\n",
    "import pytesseract\n",
    "\n",
    "def cleanFile(filePath, newFilePath):\n",
    "    image = Image.open(filePath)\n",
    "\n",
    "      #установка порога для изображения (для выделения текста)\n",
    "    image = image.point(lambda x: 0 if x<143 else 255)\n",
    "    image.save(newFilePath)\n",
    "    return image\n",
    "\n",
    "image = cleanFile('files/textBad.png', 'files/textCleaned.png')\n",
    "\n",
    "#вызов tesseract для OCR изображения\n",
    "print(pytesseract.image_to_string(image))"
   ]
  },
  {
   "cell_type": "code",
   "execution_count": null,
   "metadata": {},
   "outputs": [],
   "source": [
    "import pytesseract\n",
    "from pytesseract import Output\n",
    "from PIL import Image\n",
    "import numpy as np\n",
    "\n",
    "def cleanFile(filePath, threshold):\n",
    "    image = Image.open(filePath)\n",
    "    #установка порога для изображения\n",
    "    image = image.point(lambda x: 0 if x<threshold else 255)\n",
    "    return image\n",
    "\n",
    "def getConfidence(image):\n",
    "    data = pytesseract.image_to_data(image, output_type=Output.DICT)\n",
    "    text = data['text']\n",
    "    confidences = []\n",
    "    numChars = []\n",
    "    print(type(data['conf'][0]))\n",
    "    for i in range(len(text)):\n",
    "        if  int(data['conf'][i])>-1:\n",
    "            confidences.append(int(data['conf'][i]))\n",
    "            numChars.append(len(text[i]))\n",
    "            \n",
    "    return np.average(confidences, weights=numChars), sum(numChars)\n",
    "    \n",
    "filePath = 'files/textBad.png'\n",
    "\n",
    "start = 80\n",
    "step = 5\n",
    "end = 200\n",
    "\n",
    "for threshold in range(start, end, step):\n",
    "    image = cleanFile(filePath, threshold)\n",
    "    scores = getConfidence(image)\n",
    "    print('threshold: {}, confidence: {}, numChars {}'.format(str(threshold), str(scores[0]), str(scores[1])))\n"
   ]
  },
  {
   "cell_type": "markdown",
   "metadata": {},
   "source": [
    "Бот щелкает кнопку предпросмотра"
   ]
  },
  {
   "cell_type": "code",
   "execution_count": null,
   "metadata": {},
   "outputs": [],
   "source": [
    "import time\n",
    "from urllib.request import urlretrieve\n",
    "from PIL import Image\n",
    "import pytesseract\n",
    "from selenium import webdriver\n",
    "from PIL import Image\n",
    "\n",
    "# создаем Selenium driver\n",
    "driver = webdriver.Chrome(executable_path='drivers/chromedriver')\n",
    "\n",
    "driver.get(\n",
    "    'https://www.amazon.com/Death-Ivan-Ilyich-Nikolayevich-Tolstoy/dp/1427027277')\n",
    "time.sleep(2)\n",
    "\n",
    "# Щелкаем на кнопку предпросмотра с элементом 'imgBlkFront'\n",
    "driver.find_element_by_id('imgBlkFront').click()\n",
    "imageList = []\n",
    "\n",
    "# ждем, пока страница загрузится\n",
    "time.sleep(5)\n",
    "\n",
    "while 'pointer' in driver.find_element_by_id('sitbReaderRightPageTurner').get_attribute('style'):\n",
    "    # щелаекм пока доступна кнопка вправо для загрузки следующей страницы предпросмотра\n",
    "    driver.find_element_by_id('sitbReaderRightPageTurner').click()\n",
    "    time.sleep(2)\n",
    "    # получаем все загруженные страницы (может сразу загрузиться несколько страниц,\n",
    "    # но дубликаты игнорируютсяt)\n",
    "    pages = driver.find_elements_by_xpath(\n",
    "        '//div[@class=\\'pageImage\\']/div/img')\n",
    "    if not len(pages):\n",
    "        print('No pages found')\n",
    "    for page in pages:\n",
    "        image = page.get_attribute('src')\n",
    "        print('Found image: {}'.format(image))\n",
    "        if image not in imageList:\n",
    "            urlretrieve(image, 'page.jpg')\n",
    "            imageList.append(image)\n",
    "            print(pytesseract.image_to_string(Image.open('page.jpg')))\n",
    "\n",
    "driver.quit()"
   ]
  },
  {
   "cell_type": "markdown",
   "metadata": {},
   "source": [
    "Бот добавляет комментарии, заполняет форму, читает CAPTCHA"
   ]
  },
  {
   "cell_type": "code",
   "execution_count": null,
   "metadata": {},
   "outputs": [],
   "source": [
    "from urllib.request import urlretrieve\n",
    "from urllib.request import urlopen\n",
    "from bs4 import BeautifulSoup\n",
    "import subprocess\n",
    "import requests\n",
    "from PIL import Image\n",
    "from PIL import ImageOps\n",
    "\n",
    "def cleanImage(imagePath):\n",
    "    image = Image.open(imagePath)\n",
    "    image = image.point(lambda x: 0 if x<143 else 255)\n",
    "    borderImage = ImageOps.expand(image,border=20,fill='white')\n",
    "    borderImage.save(imagePath)\n",
    "\n",
    "html = urlopen('http://www.pythonscraping.com/humans-only')\n",
    "bs = BeautifulSoup(html, 'html.parser')\n",
    "#Данные для формы\n",
    "imageLocation = bs.find('img', {'title': 'Image CAPTCHA'})['src']\n",
    "formBuildId = bs.find('input', {'name':'form_build_id'})['value']\n",
    "captchaSid = bs.find('input', {'name':'captcha_sid'})['value']\n",
    "captchaToken = bs.find('input', {'name':'captcha_token'})['value']\n",
    "\n",
    "captchaUrl = 'http://pythonscraping.com'+imageLocation\n",
    "urlretrieve(captchaUrl, 'captcha.jpg')\n",
    "cleanImage('captcha.jpg')\n",
    "p = subprocess.Popen(['tesseract', 'captcha.jpg', 'captcha'], stdout=\n",
    "    subprocess.PIPE,stderr=subprocess.PIPE)\n",
    "p.wait()\n",
    "f = open('captcha.txt', 'r')\n",
    "\n",
    "#Удаляем символы пробела\n",
    "captchaResponse = f.read().replace(' ', '').replace('\\n', '')\n",
    "print('Попытка распознавания Captcha: '+captchaResponse)\n",
    "\n",
    "if len(captchaResponse) == 5:\n",
    "    params = {'captcha_token':captchaToken, 'captcha_sid':captchaSid,   \n",
    "              'form_id':'comment_node_page_form', 'form_build_id': formBuildId, \n",
    "              'captcha_response':captchaResponse, 'name':'Monty Python', \n",
    "              'subject': 'I come to seek the Grail', \n",
    "              'comment_body[und][0][value]': \n",
    "               '...and I am definitely not a bot'}\n",
    "    r = requests.post('http://www.pythonscraping.com/comment/reply/10', \n",
    "                          data=params)\n",
    "    responseObj = BeautifulSoup(r.text, 'html.parser')\n",
    "    if responseObj.find('div', {'class':'messages'}) is not None:\n",
    "        print(responseObj.find('div', {'class':'messages'}).get_text())\n",
    "else:\n",
    "    print('Возникли проблемы при распознавании CAPTCHA (неверное число символов)!')"
   ]
  },
  {
   "cell_type": "markdown",
   "metadata": {},
   "source": [
    "# Распознавание русского текста"
   ]
  },
  {
   "cell_type": "code",
   "execution_count": null,
   "metadata": {},
   "outputs": [],
   "source": [
    "rustext = pytesseract.image_to_string(Image.open('files/rustext.png'))\n",
    "print(rustext)"
   ]
  },
  {
   "cell_type": "code",
   "execution_count": null,
   "metadata": {
    "scrolled": true
   },
   "outputs": [],
   "source": [
    "# Указываем в параметрах русския язык\n",
    "rustext = pytesseract.image_to_string(Image.open('files/rustext.png'), lang='rus')\n",
    "print(rustext)\n"
   ]
  },
  {
   "cell_type": "code",
   "execution_count": null,
   "metadata": {},
   "outputs": [],
   "source": [
    "#Пример изображения с текстом. Текст необходимо выделить.\n",
    "import matplotlib.pyplot as plt\n",
    "img=Image.open('files/examen-student.png')\n",
    "plt.imshow(img)\n",
    "img.show()\n"
   ]
  },
  {
   "cell_type": "code",
   "execution_count": null,
   "metadata": {},
   "outputs": [],
   "source": [
    "#print( pytesseract.image_to_string(img, lang='rus')"
   ]
  },
  {
   "cell_type": "code",
   "execution_count": null,
   "metadata": {},
   "outputs": [],
   "source": [
    "#Задание:  получить весь текст. Модифицировать функцию для очистки изображения!\n",
    "from PIL import Image, ImageEnhance\n",
    "import pytesseract\n",
    "\n",
    "def cleanFile(filePath, newFilePath):\n",
    "    image = Image.open(filePath)\n",
    "    image=ImageEnhance.Brightness(image).enhance(10.0)\n",
    "    image=ImageEnhance.Contrast(image).enhance(10.0)\n",
    "    image=image.convert('1')\n",
    "      #установка порога для изображения (для выделения текста)\n",
    "    #image = image.point(lambda x: 0 if x< else 255)\n",
    "    image.save(newFilePath)\n",
    "    return image\n",
    "\n",
    "image = cleanFile('files/examen-student.jpg', 'files/examen-student-Cleaned.jpg')\n",
    "#image.show()\n",
    "\n",
    "#print( pytesseract.image_to_string(Image.open('files/examen-student-Cleaned.png'), lang='rus')"
   ]
  },
  {
   "cell_type": "code",
   "execution_count": null,
   "metadata": {},
   "outputs": [],
   "source": [
    "#Задание: получить весь текст.\n",
    "#Пример изображения с текстом. Текст необходимо выделить.\n",
    "import matplotlib.pyplot as plt\n",
    "img=Image.open('files/examen-prepod2.jpg')\n",
    "plt.imshow(img)\n",
    "img.show()"
   ]
  },
  {
   "cell_type": "code",
   "execution_count": null,
   "metadata": {},
   "outputs": [],
   "source": []
  }
 ],
 "metadata": {
  "kernelspec": {
   "display_name": "Python 3",
   "language": "python",
   "name": "python3"
  },
  "language_info": {
   "codemirror_mode": {
    "name": "ipython",
    "version": 3
   },
   "file_extension": ".py",
   "mimetype": "text/x-python",
   "name": "python",
   "nbconvert_exporter": "python",
   "pygments_lexer": "ipython3",
   "version": "3.7.1"
  }
 },
 "nbformat": 4,
 "nbformat_minor": 2
}