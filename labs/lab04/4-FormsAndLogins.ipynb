{
 "cells": [
  {
   "cell_type": "code",
   "execution_count": 2,
   "metadata": {},
   "outputs": [
    {
     "output_type": "stream",
     "name": "stdout",
     "text": "Hello there, Vasya Mitchell!\n"
    }
   ],
   "source": [
    "import requests\n",
    "\n",
    "params = {'firstname': 'Vasya', 'lastname': 'Pupkin'}\n",
    "r = requests.post(\"http://pythonscraping.com/pages/processing.php\", data=params)\n",
    "print(r.text)"
   ]
  },
  {
   "cell_type": "code",
   "execution_count": 3,
   "metadata": {
    "tags": [
     "outputPrepend"
    ]
   },
   "outputs": [
    {
     "output_type": "stream",
     "name": "stdout",
     "text": "  \n      <!-- =-=-=-=-=-=-=-=[Row1]=-=-=-=-=-=-=-= -->\n      <section id=\"content-section\">\n        <div class=\"page-width\">\n          <!-- mmmmmmm[Marketo Editable Area]mmmmmmm -->\n          <div class=\"mktoForm\" id=\"edit_Form\"><div id='lpeCDiv_22367' class='lpeCElement Email_Preference_CenterEmail_Signup_Form'><span class='lpContentsItem formSpan'>\n<script src=\"/js/forms2/js/forms2.min.js\"></script>\n<form class=\"mktoForm\" id=\"mktoForm_1141\">\n</form>\n<script>\n  (function (){\n    var formDescriptor = {\"Id\":1141,\"Vid\":1141,\"Status\":\"approved\",\"Name\":\"Email Preference Center.Email Signup Form\",\"Description\":\"Same as Email Preferences Form, except there is a field to set email address.\",\"Layout\":\"above\",\"GutterWidth\":10,\"OffsetWidth\":10,\"HasTwoButtons\":true,\"SubmitLabel\":\"Update\",\"ResetLabel\":\"Clear\",\"ButtonLocation\":\"120\",\"LabelWidth\":100,\"FieldWidth\":150,\"ToolTipType\":\"none\",\"FontFamily\":\"Helvetica, Arial, sans-serif\",\"FontSize\":\"13px\",\"FontColor\":\"#333\",\"FontUrl\":null,\"LineMargin\":10,\"ProcessorVersion\":2,\"CreatedByUserid\":1710,\"ProcessOptions\":{\"language\":\"English\",\"locale\":\"en_US\",\"profiling\":{\"isEnabled\":false,\"numberOfProfilingFields\":3,\"alwaysShowFields\":[]},\"socialSignOn\":{\"isEnabled\":false,\"enabledNetworks\":[],\"cfId\":null,\"codeSnippet\":null},\"knownLead\":{\"type\":\"form\",\"template\":\"\"}},\"EnableDeferredMode\":0,\"ButtonType\":null,\"ButtonImageUrl\":null,\"ButtonText\":null,\"ButtonSubmissionText\":\"Please Wait\",\"ButtonStyle\":{\"id\":11,\"className\":\"mktoSimple\",\"css\":\".mktoForm .mktoButtonWrap.mktoSimple .mktoButton {\\ncolor:#fff;\\nborder:1px solid #75ae4c;\\npadding:0.4em 1em;\\nfont-size:1em;\\nbackground-color:#99c47c;\\nbackground-image: -webkit-gradient(linear, left top, left bottom, from(#99c47c), to(#75ae4c));\\nbackground-image: -webkit-linear-gradient(top, #99c47c, #75ae4c);\\nbackground-image: -moz-linear-gradient(top, #99c47c, #75ae4c);\\nbackground-image: linear-gradient(to bottom, #99c47c, #75ae4c);\\n}\\n.mktoForm .mktoButtonWrap.mktoSimple .mktoButton:hover {\\nborder:1px solid #447f19;\\n}\\n.mktoForm .mktoButtonWrap.mktoSimple .mktoButton:focus {\\noutline:none;\\nborder:1px solid #447f19;\\n}\\n.mktoForm .mktoButtonWrap.mktoSimple .mktoButton:active{\\nbackground-color:#75ae4c;\\nbackground-image: -webkit-gradient(linear, left top, left bottom, from(#75ae4c), to(#99c47c));\\nbackground-image: -webkit-linear-gradient(top, #75ae4c, #99c47c);\\nbackground-image: -moz-linear-gradient(top, #75ae4c, #99c47c);\\nbackground-image: linear-gradient(to bottom, #75ae4c, #99c47c);\\n}\\n\",\"buttonColor\":null},\"ThemeStyle\":{\"id\":2,\"displayOrder\":1,\"name\":\"Simple\",\"backgroundColor\":\"#FFF\",\"layout\":\"left\",\"fontFamily\":\"Helvetica, Arial, sans-serif\",\"fontSize\":\"13px\",\"fontColor\":\"#333\",\"offsetWidth\":10,\"gutterWidth\":10,\"labelWidth\":100,\"fieldWidth\":150,\"lineMargin\":10,\"useBackgroundColorOnPreview\":false,\"css\":\".mktoForm fieldset.mkt3-formEditorFieldContainer{border: solid 1px gray;}.mktoForm fieldset.mkt3-formEditorFieldContainer legend{padding:0 1em;}\",\"href\":\"css\\/forms2-theme-simple.css\",\"buttonStyleId\":11},\"ThemeStyleOverride\":\"\\/* Add your custom CSS below *\\/\\nform { }\",\"rows\":[[{\"Id\":8604,\"Name\":\"Email\",\"IsRequired\":true,\"Datatype\":\"email\",\"Maxlength\":255,\"InputLabel\":\"Your Email\",\"InputInitialValue\":\"\",\"InputSourceChannel\":\"constant\",\"ProfilingFieldNumber\":0,\"ValidationMessage\":\"Must be valid email. \\u003Cspan class='mktoErrorDetail'\\u003Eexample@yourdomain.com\\u003C\\/span\\u003E\"}],[{\"Id\":8592,\"Name\":\"Unsubscribed\",\"IsRequired\":true,\"Datatype\":\"radio\",\"PicklistValues\":[{\"label\":\"Yes, I'd like to receive email updates from O\\u2019Reilly on its latest ideas, events and offers.\\u003Cspan class=\\\"small\\\"\\u003EPlease see our \\u003Ca href=\\\"http:\\/\\/www.oreilly.com\\/privacy.html\\\" target=\\\"_blank\\\"\\u003EPrivacy Policy\\u003C\\/a\\u003E.\\u003C\\/span\\u003E\",\"value\":\"no\"},{\"label\":\"Do not send me marketing email for now. \\u003Cspan class=\\\"small\\\"\\u003EStop receiving all O\\u2019Reilly marketing communications. We will still send you notifications about your account.\\u003C\\/span\\u003E\",\"value\":\"yes\"}],\"InputLabel\":\"\",\"InputInitialValue\":\"\",\"InputSourceChannel\":\"constant\",\"VisibleRows\":1,\"FieldWidth\":406,\"ValidationMessage\":\"This field is required.\"}],[{\"Id\":8605,\"Name\":\"tempText\",\"Datatype\":\"hidden\",\"Maxlength\":2000,\"InputLabel\":\"Temp Text:\",\"InputInitialValue\":\"\",\"InputSourceChannel\":\"constant\",\"ProfilingFieldNumber\":0,\"DisablePrefill\":true}],[{\"Id\":8593,\"Name\":\"FieldSet_2018-02-02T00:12:58.011Z\",\"Datatype\":\"fieldset\",\"InputLabel\":\"What are you interested in?\",\"InputInitialValue\":\"\",\"ProfilingFieldNumber\":0,\"IsLabelToLeft\":true}],[{\"Id\":8606,\"Name\":\"FieldSet_2020-01-07T21:53:32.262Z\",\"Datatype\":\"fieldset\",\"InputLabel\":\"O\\u2019Reilly Member Newsletter\",\"InputInitialValue\":\"\",\"ProfilingFieldNumber\":0,\"IsLabelToLeft\":true}]],\"fieldsetRows\":{\"8593\":[[{\"Id\":8594,\"Name\":\"Opt_In_AI__c\",\"Datatype\":\"single_checkbox\",\"PicklistValues\":[{\"label\":\"\",\"value\":\"yes\"}],\"InputLabel\":\"Artificial Intelligence\",\"InputInitialValue\":\"\",\"InputSourceChannel\":\"constant\",\"ProfilingFieldNumber\":0,\"ValidationMessage\":\"This field is required.\",\"FieldsetFieldId\":8593}],[{\"Id\":8595,\"Name\":\"Opt_In_Business_Leadership__c\",\"Datatype\":\"single_checkbox\",\"PicklistValues\":[{\"label\":\"\",\"value\":\"yes\"}],\"InputLabel\":\"Business Leadership\",\"InputInitialValue\":\"\",\"InputSourceChannel\":\"constant\",\"ProfilingFieldNumber\":0,\"ValidationMessage\":\"This field is required.\",\"FieldsetFieldId\":8593}],[{\"Id\":8596,\"Name\":\"Opt_In_Data__c\",\"Datatype\":\"single_checkbox\",\"PicklistValues\":[{\"label\":\"\",\"value\":\"yes\"}],\"InputLabel\":\"Data\",\"InputInitialValue\":\"\",\"InputSourceChannel\":\"constant\",\"ProfilingFieldNumber\":0,\"ValidationMessage\":\"This field is required.\",\"FieldsetFieldId\":8593}],[{\"Id\":8597,\"Name\":\"Opt_In_Digital_Marketing__c\",\"Datatype\":\"single_checkbox\",\"PicklistValues\":[{\"label\":\"\",\"value\":\"yes\"}],\"InputLabel\":\"Digital Marketing\",\"InputInitialValue\":\"\",\"InputSourceChannel\":\"constant\",\"ProfilingFieldNumber\":0,\"ValidationMessage\":\"This field is required.\",\"FieldsetFieldId\":8593}],[{\"Id\":8598,\"Name\":\"Opt_In_Hardware__c\",\"Datatype\":\"single_checkbox\",\"PicklistValues\":[{\"label\":\"\",\"value\":\"yes\"}],\"InputLabel\":\"Hardware\",\"InputInitialValue\":\"\",\"InputSourceChannel\":\"constant\",\"ProfilingFieldNumber\":0,\"ValidationMessage\":\"This field is required.\",\"FieldsetFieldId\":8593}],[{\"Id\":8599,\"Name\":\"Opt_In_Learning_Dev__c\",\"Datatype\":\"single_checkbox\",\"PicklistValues\":[{\"label\":\"\",\"value\":\"yes\"}],\"InputLabel\":\"Learning & Development\",\"InputInitialValue\":\"\",\"InputSourceChannel\":\"constant\",\"ProfilingFieldNumber\":0,\"ValidationMessage\":\"This field is required.\",\"FieldsetFieldId\":8593}],[{\"Id\":8601,\"Name\":\"Opt_In_Software_Architecture__c\",\"Datatype\":\"single_checkbox\",\"PicklistValues\":[{\"label\":\"\",\"value\":\"yes\"}],\"InputLabel\":\"Software Architecture\",\"InputInitialValue\":\"\",\"InputSourceChannel\":\"constant\",\"ProfilingFieldNumber\":0,\"ValidationMessage\":\"This field is required.\",\"FieldsetFieldId\":8593}],[{\"Id\":8600,\"Name\":\"Opt_In_Software_Dev__c\",\"Datatype\":\"single_checkbox\",\"PicklistValues\":[{\"label\":\"\",\"value\":\"yes\"}],\"InputLabel\":\"Software Development\",\"InputInitialValue\":\"\",\"InputSourceChannel\":\"constant\",\"ProfilingFieldNumber\":0,\"ValidationMessage\":\"This field is required.\",\"FieldsetFieldId\":8593}],[{\"Id\":8602,\"Name\":\"Opt_In_Sys_Eng_Ops__c\",\"Datatype\":\"single_checkbox\",\"PicklistValues\":[{\"label\":\"\",\"value\":\"yes\"}],\"InputLabel\":\"Infrastructure & Ops\",\"InputInitialValue\":\"\",\"InputSourceChannel\":\"constant\",\"ProfilingFieldNumber\":0,\"ValidationMessage\":\"This field is required.\",\"FieldsetFieldId\":8593}],[{\"Id\":8603,\"Name\":\"Opt_In_Web_Dev__c\",\"Datatype\":\"single_checkbox\",\"PicklistValues\":[{\"label\":\"\",\"value\":\"yes\"}],\"InputLabel\":\"Web Development\",\"InputInitialValue\":\"\",\"InputSourceChannel\":\"constant\",\"ProfilingFieldNumber\":0,\"ValidationMessage\":\"This field is required.\",\"FieldsetFieldId\":8593}]],\"8606\":[[{\"Id\":8607,\"Name\":\"Opt_In_This_Week_L__c\",\"Datatype\":\"single_checkbox\",\"PicklistValues\":[{\"label\":\"\",\"value\":\"yes\"}],\"InputLabel\":\"\\u003Cspan class=\\\"label-heading\\\"\\u003EThis Week at O\\u2019Reilly\\u003C\\/span\\u003E \\u003Cspan class=\\\"label-description\\\"\\u003EReceive exclusive content, training, and updates about your membership each week.\\u003C\\/span\\u003E\",\"InputInitialValue\":\"\",\"InputSourceChannel\":\"constant\",\"ProfilingFieldNumber\":0,\"ValidationMessage\":\"This field is required.\",\"FieldsetFieldId\":8606}]]},\"action\":\"\\/index.php\\/leadCapture\\/save\",\"munchkinId\":\"107-FMS-070\",\"invalidInputMsg\":\"Invalid Input\",\"formSubmitFailedMsg\":\"Submission failed, please try again later.\"};\n    MktoForms2.setOptions({baseUrl:\"/js/forms2/\"});\n    var isDev = false;\n    if(isDev && window.console && window.JSON){\n      console.log(JSON.stringify(formDescriptor, null, \"  \"));\n    }\n    var form = MktoForms2.newForm(formDescriptor, function (form){\n      var lpFields = {\"lpId\":1468,\"subId\":34,\"munchkinId\":\"107-FMS-070\",\"lpurl\":\"\\/\\/get.oreilly.com\\/email-signup.html?cr={creative}&kw={keyword}\"};\n      var pageFields = MktoForms2.getPageFields();\n      form.addHiddenFields(lpFields);\n      form.addHiddenFields(pageFields);\n      if(window.mktoPreFillFields){\n        form.setValuesCoerced(mktoPreFillFields);\n      }\n      if(!form.EnableDeferredMode){\n        form.render();\n      }\n    });     \n  })()\n</script>\n\n<noscript>\n  <form class='mktoForm mktoNoJS' action='/index.php/leadCapture/save' method='post'>\n        <div class='mktoFormRow'>\n          <div class='mktoFormCol'>\n            <label class=\"mktoLabel\" for='Email'>\n              Your Email            </label>\n            <input type=\"text\" class='mktoField mktoTextField' name='Email' id='Email'>\n          </div>\n        </div>\n        <div class='mktoFormRow'>\n          <div class='mktoFormCol'>\n            <label class=\"mktoLabel\" for='Unsubscribed'>\n                          </label>\n            <input type=\"text\" class='mktoField mktoTextField' name='Unsubscribed' id='Unsubscribed'>\n          </div>\n        </div>\n        <div class='mktoFormRow'>\n          <div class='mktoFormCol'>\n            <label class=\"mktoLabel\" for='tempText'>\n              Temp Text:            </label>\n            <input type=\"text\" class='mktoField mktoTextField' name='tempText' id='tempText'>\n          </div>\n        </div>\n        <div class='mktoFormRow'>\n          <div class='mktoFormCol'>\n            <label class=\"mktoLabel\" for='Opt_In_AI__c'>\n              Artificial Intelligence            </label>\n            <input type=\"text\" class='mktoField mktoTextField' name='Opt_In_AI__c' id='Opt_In_AI__c'>\n          </div>\n        </div>\n        <div class='mktoFormRow'>\n          <div class='mktoFormCol'>\n            <label class=\"mktoLabel\" for='Opt_In_Business_Leadership__c'>\n              Business Leadership            </label>\n            <input type=\"text\" class='mktoField mktoTextField' name='Opt_In_Business_Leadership__c' id='Opt_In_Business_Leadership__c'>\n          </div>\n        </div>\n        <div class='mktoFormRow'>\n          <div class='mktoFormCol'>\n            <label class=\"mktoLabel\" for='Opt_In_Data__c'>\n              Data            </label>\n            <input type=\"text\" class='mktoField mktoTextField' name='Opt_In_Data__c' id='Opt_In_Data__c'>\n          </div>\n        </div>\n        <div class='mktoFormRow'>\n          <div class='mktoFormCol'>\n            <label class=\"mktoLabel\" for='Opt_In_Digital_Marketing__c'>\n              Digital Marketing            </label>\n            <input type=\"text\" class='mktoField mktoTextField' name='Opt_In_Digital_Marketing__c' id='Opt_In_Digital_Marketing__c'>\n          </div>\n        </div>\n        <div class='mktoFormRow'>\n          <div class='mktoFormCol'>\n            <label class=\"mktoLabel\" for='Opt_In_Hardware__c'>\n              Hardware            </label>\n            <input type=\"text\" class='mktoField mktoTextField' name='Opt_In_Hardware__c' id='Opt_In_Hardware__c'>\n          </div>\n        </div>\n        <div class='mktoFormRow'>\n          <div class='mktoFormCol'>\n            <label class=\"mktoLabel\" for='Opt_In_Learning_Dev__c'>\n              Learning & Development            </label>\n            <input type=\"text\" class='mktoField mktoTextField' name='Opt_In_Learning_Dev__c' id='Opt_In_Learning_Dev__c'>\n          </div>\n        </div>\n        <div class='mktoFormRow'>\n          <div class='mktoFormCol'>\n            <label class=\"mktoLabel\" for='Opt_In_Software_Architecture__c'>\n              Software Architecture            </label>\n            <input type=\"text\" class='mktoField mktoTextField' name='Opt_In_Software_Architecture__c' id='Opt_In_Software_Architecture__c'>\n          </div>\n        </div>\n        <div class='mktoFormRow'>\n          <div class='mktoFormCol'>\n            <label class=\"mktoLabel\" for='Opt_In_Software_Dev__c'>\n              Software Development            </label>\n            <input type=\"text\" class='mktoField mktoTextField' name='Opt_In_Software_Dev__c' id='Opt_In_Software_Dev__c'>\n          </div>\n        </div>\n        <div class='mktoFormRow'>\n          <div class='mktoFormCol'>\n            <label class=\"mktoLabel\" for='Opt_In_Sys_Eng_Ops__c'>\n              Infrastructure & Ops            </label>\n            <input type=\"text\" class='mktoField mktoTextField' name='Opt_In_Sys_Eng_Ops__c' id='Opt_In_Sys_Eng_Ops__c'>\n          </div>\n        </div>\n        <div class='mktoFormRow'>\n          <div class='mktoFormCol'>\n            <label class=\"mktoLabel\" for='Opt_In_Web_Dev__c'>\n              Web Development            </label>\n            <input type=\"text\" class='mktoField mktoTextField' name='Opt_In_Web_Dev__c' id='Opt_In_Web_Dev__c'>\n          </div>\n        </div>\n        <div class='mktoFormRow'>\n          <div class='mktoFormCol'>\n            <label class=\"mktoLabel\" for='Opt_In_This_Week_L__c'>\n              <span class=\"label-heading\">This Week at O’Reilly</span> <span class=\"label-description\">Receive exclusive content, training, and updates about your membership each week.</span>            </label>\n            <input type=\"text\" class='mktoField mktoTextField' name='Opt_In_This_Week_L__c' id='Opt_In_This_Week_L__c'>\n          </div>\n        </div>\n    <span style=\"display:none;\"><input type=\"text\" name=\"_marketo_comments\" value=\"\"></span>\n    <span class='mktoButtonWrap'><button type='submit' class='mktoButton'>Submit</button></span>\n    <input type=\"hidden\" name=\"lpId\" value=\"1468\" />\n    <input type=\"hidden\" name=\"subId\" value=\"34\" />\n    <input type=\"hidden\" name=\"lpurl\" value=\"//get.oreilly.com/email-signup.html?cr={creative}&amp;kw={keyword}\" />\n    <input type=\"hidden\" name=\"formid\" value=\"1141\" />\n    <input type=\"hidden\" name=\"ret\" value=\"\" />\n    <input type=\"hidden\" name=\"munchkinId\" value=\"107-FMS-070\"/>\n    <input type=\"hidden\" name=\"kw\" value=\"\"/>\n    <input type=\"hidden\" name=\"cr\" value=\"\"/>\n    <input type=\"hidden\" name=\"searchstr\" value=\"\"/>\n    <input type=\"hidden\" name=\"_mkt_disp\" value=\"return\"/>\n    <input type=\"hidden\" name=\"_mkt_trk\" value=\"\"/>\n  </form>  \n</noscript>\n\n</span></div>\n</div>\n          \n          \n        <noscript>\n          <h3><em>JavaScript is required to update your email preferences.</em></h3>\n        </noscript>\n      </div></section><!-- end Content Section -->\n    </article>\n\n\n    <footer role=\"contentinfo\" class=\"page-width\">\n      <!-- mmmmmmm[marketo editable area]mmmmmmm -->\n      <div class=\"mktoText\" id=\"edit_Copyright\">\n      <p class=\"copyright\">©2020 O’Reilly Media, Inc. All trademarks and registered trademarks appearing on oreilly.com are the property of their respective owners.</p>\n      </div>\n      <!-- mmmmmmm[/marketo editable area]mmmmmmm --> \n    </footer>\n\n  </main>\n\n  <script>    \n  //Show confirmation message on form submission success\n  $(function() {\n    MktoForms2.whenReady(function(form) {\n      var currentUnsubscribeValue = $('form.mktoForm').find('input[name=Unsubscribed]:checked').val();\n\n      //If signup form, not preference center form\n      if ($('form.mktoForm').attr('id') === 'mktoForm_1141') {\n        //If the unsubscribe value is 'no' (the default), uncheck the unsubscribe\n        if ($('form.mktoForm').find('input[name=Unsubscribed]:checked').val() === 'no') {\n          $('form.mktoForm').find('input[name=Unsubscribed]:checked').prop('checked', false);\n        }\n      }\n\n      //If preference center form, not signup form\n      if ($('form.mktoForm').attr('id') === 'mktoForm_1064') {\n        var trueIfEmail = (\"\" != \"null\" && \"\" != \"\");\n\n        //If trueIfEmail is true, add email to hidden field.\n        //If trueIfEmail is false, then the email field is displayed in the form.\n        if (trueIfEmail) { \n          form.setValues({  \n            Email: \"\",\n            tempBoolean: trueIfEmail\n          });\n        }\n        else { \n          form.setValues({\n            tempBoolean: trueIfEmail\n          });\n        }\n\n        //If a user clicks to change their email address, then the email field is displayed in the form, and the hidden field value for Email is cleared.\n        $('form.mktoForm #email-address-change').on('click', function(event) {\n          event.preventDefault();\n          trueIfEmail = false;\n          form.setValues({\n            Email: \"\",\n            tempBoolean: trueIfEmail\n          });\n        });\n      }\n\n      \n      ToggleTopicSelect();\n      $('form.mktoForm').find('input[name=Unsubscribed]').change(function() {\n        ToggleTopicSelect();\n      });\n\n      form.onValidate(function(isValid) {\n        if (isValid) {\n          //If Unsubscribe value changed after the form loads, then set tempText value to note\n          if (currentUnsubscribeValue != $('form.mktoForm').find('input[name=Unsubscribed]:checked').val()) {\n            if ($('form.mktoForm').find('input[name=Unsubscribed]:checked').val() === 'no') {\n              form.setValues({\n                'tempText' : 'new_subscribe',\n              });\n            }\n            else if ($('form.mktoForm').find('input[name=Unsubscribed]:checked').val() === 'yes') {\n              form.setValues({\n                'tempText' : 'new_unsubscribe',\n              });\n            }\n          }\n\n          if ($('form.mktoForm').find('input[name=Unsubscribed]:checked').val() === 'no') {\n            var optIns = [];\n            $('form.mktoForm').find('input[name^=\"Opt_In\"]:checked').each(function(i) {\n              var thisOptIn = $(this).attr('name');\n              thisOptIn = thisOptIn.slice(7,-3);\n              thisOptIn = thisOptIn.replace('_','');\n              optIns[i] = thisOptIn.toLowerCase();\n            });\n            optIns = optIns.toString();\n            \n            dataLayer.push({\n              'event': 'eventTracker',\n              'eventCat':'email sign up',\n              'eventAct':'topic sign up',\n              'eventLbl':optIns,\n              'eventVal':0,\n              'nonInteraction':0\n            });\n          }\n        }\n      });\n\n      form.onSuccess(function(f){\n        $('#main-content .headline .intro').add('#content-section').remove();\n        $('#main-content .headline .confirmation-message').css('display', 'block');\n        return false;\n      });\n    });\n  });\n\n  function ToggleTopicSelect(form) {\n    if ($('form.mktoForm').find('input[name=Unsubscribed]:checked').val() === 'yes') {\n      $('form.mktoForm').find('fieldset').css('opacity','0.5');\n      $('form.mktoForm').find('fieldset input').prop('disabled',true);\n    }\n    else {\n      $('form.mktoForm').find('fieldset').css('opacity','1');\n      $('form.mktoForm').find('fieldset input').prop('disabled',false);\n    }\n  }\n  </script>\n\n    \n  <!-- Digital Pi UTM Tracking Script -->\n  <script type=\"text/javascript\" src=\"https://get.oreilly.com/rs/107-FMS-070/images/digitalpi-utm-tracker-oreilly.com.js\"></script>\n    \n<script type=\"text/javascript\" src=\"//munchkin.marketo.net//munchkin.js\"></script><script>Munchkin.init('107-FMS-070', {customName: 'email-signup', wsInfo: 'j1RR'});</script>\n    \n<script type=\"text/javascript\" src=\"/js/stripmkttok.js\"></script></body>\n</html>\n\n"
    }
   ],
   "source": [
    "import requests\n",
    "params = {'email_addr': 'vasya.pupkin@gmail.com'}\n",
    "r = requests.post(\"http://post.oreilly.com/client/o/oreilly/forms/quicksignup.cgi\",\n",
    "                   data=params)\n",
    "print(r.text)"
   ]
  },
  {
   "cell_type": "code",
   "execution_count": 4,
   "metadata": {},
   "outputs": [
    {
     "ename": "FileNotFoundError",
     "evalue": "[Errno 2] No such file or directory: 'files/Python-logo.png'",
     "output_type": "error",
     "traceback": [
      "\u001b[0;31m---------------------------------------------------------------------------\u001b[0m",
      "\u001b[0;31mFileNotFoundError\u001b[0m                         Traceback (most recent call last)",
      "\u001b[0;32m<ipython-input-4-d5ec9af2a4b5>\u001b[0m in \u001b[0;36m<module>\u001b[0;34m()\u001b[0m\n\u001b[1;32m      1\u001b[0m \u001b[0;32mimport\u001b[0m \u001b[0mrequests\u001b[0m\u001b[0;34m\u001b[0m\u001b[0m\n\u001b[1;32m      2\u001b[0m \u001b[0;34m\u001b[0m\u001b[0m\n\u001b[0;32m----> 3\u001b[0;31m \u001b[0mfiles\u001b[0m \u001b[0;34m=\u001b[0m \u001b[0;34m{\u001b[0m\u001b[0;34m'uploadFile'\u001b[0m\u001b[0;34m:\u001b[0m \u001b[0mopen\u001b[0m\u001b[0;34m(\u001b[0m\u001b[0;34m'files/Python-logo.png'\u001b[0m\u001b[0;34m,\u001b[0m \u001b[0;34m'rb'\u001b[0m\u001b[0;34m)\u001b[0m\u001b[0;34m}\u001b[0m\u001b[0;34m\u001b[0m\u001b[0m\n\u001b[0m\u001b[1;32m      4\u001b[0m \u001b[0mr\u001b[0m \u001b[0;34m=\u001b[0m \u001b[0mrequests\u001b[0m\u001b[0;34m.\u001b[0m\u001b[0mpost\u001b[0m\u001b[0;34m(\u001b[0m\u001b[0;34m'http://pythonscraping.com/pages/processing2.php'\u001b[0m\u001b[0;34m,\u001b[0m \u001b[0mfiles\u001b[0m\u001b[0;34m=\u001b[0m\u001b[0mfiles\u001b[0m\u001b[0;34m)\u001b[0m\u001b[0;34m\u001b[0m\u001b[0m\n\u001b[1;32m      5\u001b[0m \u001b[0mprint\u001b[0m\u001b[0;34m(\u001b[0m\u001b[0mr\u001b[0m\u001b[0;34m.\u001b[0m\u001b[0mtext\u001b[0m\u001b[0;34m)\u001b[0m\u001b[0;34m\u001b[0m\u001b[0m\n",
      "\u001b[0;31mFileNotFoundError\u001b[0m: [Errno 2] No such file or directory: 'files/Python-logo.png'"
     ]
    }
   ],
   "source": [
    "import requests\n",
    "\n",
    "files = {'uploadFile': open('files/Python-logo.png', 'rb')}\n",
    "r = requests.post('http://pythonscraping.com/pages/processing2.php', files=files)\n",
    "print(r.text)"
   ]
  },
  {
   "cell_type": "code",
   "execution_count": 5,
   "metadata": {},
   "outputs": [
    {
     "name": "stdout",
     "output_type": "stream",
     "text": [
      "Cookie is set to:\n",
      "{'loggedin': '1', 'username': 'Ryan'}\n",
      "-----------\n",
      "Going to profile page...\n",
      "Hey Ryan! Looks like you're still logged into the site!\n"
     ]
    }
   ],
   "source": [
    "import requests\n",
    "\n",
    "params = {'username': 'Vasya', 'password': 'password'}\n",
    "r = requests.post('http://pythonscraping.com/pages/cookies/welcome.php', params)\n",
    "print('Cookie is set to:')\n",
    "print(r.cookies.get_dict())\n",
    "print('Going to profile page...')\n",
    "r = requests.get('http://pythonscraping.com/pages/cookies/profile.php', \n",
    "                 cookies=r.cookies)\n",
    "print(r.text)"
   ]
  },
  {
   "cell_type": "code",
   "execution_count": 6,
   "metadata": {},
   "outputs": [
    {
     "name": "stdout",
     "output_type": "stream",
     "text": [
      "Cookie is set to:\n",
      "{'loggedin': '1', 'username': 'username'}\n",
      "Going to profile page...\n",
      "Hey username! Looks like you're still logged into the site!\n"
     ]
    }
   ],
   "source": [
    "import requests\n",
    "\n",
    "session = requests.Session()\n",
    "\n",
    "params = {'username': 'username', 'password': 'password'}\n",
    "s = session.post('http://pythonscraping.com/pages/cookies/welcome.php', params)\n",
    "print(\"Cookie is set to:\")\n",
    "print(s.cookies.get_dict())\n",
    "print('Going to profile page...')\n",
    "s = session.get('http://pythonscraping.com/pages/cookies/profile.php')\n",
    "print(s.text)"
   ]
  },
  {
   "cell_type": "code",
   "execution_count": 7,
   "metadata": {},
   "outputs": [
    {
     "name": "stdout",
     "output_type": "stream",
     "text": [
      "<p>Hello ryan.</p><p>You entered password as your password.</p>\n"
     ]
    }
   ],
   "source": [
    "import requests\n",
    "from requests.auth import AuthBase\n",
    "from requests.auth import HTTPBasicAuth\n",
    "\n",
    "auth = HTTPBasicAuth('vasya', 'password')\n",
    "r = requests.post(\n",
    "    url='http://pythonscraping.com/pages/auth/login.php', auth=auth)\n",
    "print(r.text)"
   ]
  },
  {
   "cell_type": "code",
   "execution_count": null,
   "metadata": {},
   "outputs": [],
   "source": []
  }
 ],
 "metadata": {
  "kernelspec": {
   "display_name": "Python 3",
   "language": "python",
   "name": "python3"
  },
  "language_info": {
   "codemirror_mode": {
    "name": "ipython",
    "version": 3
   },
   "file_extension": ".py",
   "mimetype": "text/x-python",
   "name": "python",
   "nbconvert_exporter": "python",
   "pygments_lexer": "ipython3",
   "version": "3.6.10-final"
  }
 },
 "nbformat": 4,
 "nbformat_minor": 2
}